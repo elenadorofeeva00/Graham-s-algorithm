{
 "cells": [
  {
   "cell_type": "code",
   "execution_count": 1,
   "metadata": {},
   "outputs": [],
   "source": [
    "import math\n",
    "import random\n",
    "import time\n",
    "import numpy as np"
   ]
  },
  {
   "cell_type": "markdown",
   "metadata": {},
   "source": [
    "### Создание данных"
   ]
  },
  {
   "cell_type": "code",
   "execution_count": 2,
   "metadata": {},
   "outputs": [],
   "source": [
    "def create(size=random.randint(3, 100)):\n",
    "    coord_x = []\n",
    "    coord_y = []\n",
    "    for i in range(size):\n",
    "        coord_x.append(random.uniform(-100, 100))\n",
    "        coord_y.append(random.uniform(-100, 100))\n",
    "        \n",
    "    with open(\"data_points.txt\", 'w') as file:\n",
    "        for i in range(len(coord_x)):\n",
    "            x = coord_x[i]\n",
    "            y = coord_y[i]\n",
    "            l = str(x) + ' ' + str(y) + '\\n'\n",
    "            file.write(l)"
   ]
  },
  {
   "cell_type": "code",
   "execution_count": 3,
   "metadata": {},
   "outputs": [],
   "source": [
    "create()"
   ]
  },
  {
   "cell_type": "markdown",
   "metadata": {},
   "source": [
    "### Считывание данных"
   ]
  },
  {
   "cell_type": "code",
   "execution_count": 37,
   "metadata": {},
   "outputs": [],
   "source": [
    "def reader(file_name):\n",
    "    A = []\n",
    "    with open(\"data_points.txt\", 'r') as file:\n",
    "        while True:\n",
    "            line = file.readline()\n",
    "            if not line:\n",
    "                break\n",
    "            line_split = line.split()\n",
    "            A.append((float(line_split[0]), float(line_split[1])))\n",
    "            \n",
    "    return A"
   ]
  },
  {
   "cell_type": "code",
   "execution_count": 38,
   "metadata": {},
   "outputs": [],
   "source": [
    "A = reader(\"data_points.txt\")"
   ]
  },
  {
   "cell_type": "code",
   "execution_count": 39,
   "metadata": {},
   "outputs": [],
   "source": [
    "P = reader(\"data_points.txt\")"
   ]
  },
  {
   "cell_type": "code",
   "execution_count": 40,
   "metadata": {},
   "outputs": [
    {
     "name": "stdout",
     "output_type": "stream",
     "text": [
      "[(0.0, 0.0), (2.0, 0.0), (0.0, 2.0), (2.0, 2.0), (1.0, 1.0)]\n"
     ]
    }
   ],
   "source": [
    "print(A)"
   ]
  },
  {
   "cell_type": "markdown",
   "metadata": {},
   "source": [
    "### Создание основных функций"
   ]
  },
  {
   "cell_type": "code",
   "execution_count": 8,
   "metadata": {},
   "outputs": [],
   "source": [
    "def get_length(v):\n",
    "    return math.sqrt(v[0] ** 2 + v[1] ** 2)"
   ]
  },
  {
   "cell_type": "code",
   "execution_count": 9,
   "metadata": {},
   "outputs": [],
   "source": [
    "def angle(v):\n",
    "    if get_length(v) == 0:\n",
    "        return 0\n",
    "    elif v[0] >= 0:\n",
    "        return math.acos((0 * v[0] + -1 * v[1])/(get_length(v)))\n",
    "    elif v[1] >= 0:\n",
    "        return (math.acos((0 * v[0] + -1 * v[1])/(get_length(v))) + np.pi)\n",
    "    else:\n",
    "        return (math.acos((0 * v[0] + -1 * v[1])/(get_length(v))) + (3 * np.pi) / 2)"
   ]
  },
  {
   "cell_type": "code",
   "execution_count": 10,
   "metadata": {},
   "outputs": [],
   "source": [
    "def is_bigger(p, x):\n",
    "    if angle(p) > angle(x):\n",
    "        return True\n",
    "    elif angle(p) == angle(x):\n",
    "        if get_length(p) > get_length(x):\n",
    "            return True\n",
    "    return False"
   ]
  },
  {
   "cell_type": "code",
   "execution_count": 11,
   "metadata": {},
   "outputs": [],
   "source": [
    "def is_smaller(p, x):\n",
    "    if angle(p) < angle(x):\n",
    "        return True\n",
    "    elif angle(p) == angle(x):\n",
    "        if get_length(p) < get_length(x):\n",
    "            return True\n",
    "    else:\n",
    "        return False"
   ]
  },
  {
   "cell_type": "markdown",
   "metadata": {},
   "source": [
    "### Реализация рандомизированной быстрой сортировки"
   ]
  },
  {
   "cell_type": "code",
   "execution_count": 12,
   "metadata": {},
   "outputs": [],
   "source": [
    "def Partition(A, p, r):\n",
    "    x = A[random.randint(p, r)]\n",
    "    i = p\n",
    "    j = r\n",
    "    while i < j:\n",
    "        while is_smaller(x, A[j]):\n",
    "            j -= 1\n",
    "        while is_bigger(x, A[i]):\n",
    "            i += 1\n",
    "        if i < j:\n",
    "            A[i], A[j] = A[j], A[i]\n",
    "            \n",
    "        else:\n",
    "            return j"
   ]
  },
  {
   "cell_type": "code",
   "execution_count": 13,
   "metadata": {},
   "outputs": [],
   "source": [
    "def Randomized_Quick_Sort(A, p, r):\n",
    "    if p < r:\n",
    "        q = Partition(A, p, r)\n",
    "        Randomized_Quick_Sort(A, p, q)\n",
    "        Randomized_Quick_Sort(A, q+1, r)"
   ]
  },
  {
   "cell_type": "markdown",
   "metadata": {},
   "source": [
    "### Реализация алгоритма Грэма с рандомизированной быстрой сортировкой"
   ]
  },
  {
   "cell_type": "code",
   "execution_count": 14,
   "metadata": {},
   "outputs": [],
   "source": [
    "def isLeft(p1, p2, p3):\n",
    "    #если косое произведение двух векторов больше нуля, то повотор от первого вектора ко второму идет против часовой стрелки\n",
    "    vec1 = [p2[0] - p1[0], p2[1] - p1[1]]\n",
    "    vec2 = [p3[0] - p1[0], p3[1] - p1[1]]\n",
    "    \n",
    "    if (vec1[0] * vec2[1] - vec1[1] * vec2[0]) > 0:\n",
    "        return True\n",
    "    \n",
    "    return False"
   ]
  },
  {
   "cell_type": "code",
   "execution_count": 15,
   "metadata": {},
   "outputs": [],
   "source": [
    "def Graham_Algorithm_with_Randomized_Quick_Sort(A):\n",
    "    start_rqs = time.time()\n",
    "    #шаг 1: найти новое начало координат (точку с минимальной абсциссой и ординатой)\n",
    "    n = len(A) #число точек\n",
    "    min_x = []\n",
    "    p = min(A, key=lambda x: x[0])\n",
    "    \n",
    "    for i in range(n):\n",
    "        if A[i][0] == p[0]:\n",
    "            min_x.append(A[i])\n",
    "            \n",
    "    for x in min_x:\n",
    "        if x[1] < p[1]:\n",
    "            p = x\n",
    "            \n",
    "    #шаг 2: перенести начало координат\n",
    "            \n",
    "    A = [(A[i][0] - p[0], A[i][1] - p[1]) for i in range(n)]\n",
    "    \n",
    "    #шаг 3: упорядочить точки по увеличению угла точек в полярных координатах\n",
    "    \n",
    "    Randomized_Quick_Sort(A, 0, len(A)-1)\n",
    "\n",
    "    #шаг 4: создать стек, положить 2 минимальные точки\n",
    "    \n",
    "    S = [A[0], A[1]]\n",
    "    \n",
    "    A.remove(A[0])\n",
    "    A.remove(A[0])\n",
    "    \n",
    "    while A:\n",
    "        if isLeft(S[-2], S[-1], A[0]):\n",
    "            S.append(A[0])\n",
    "            A.remove(A[0])\n",
    "        else:\n",
    "            if len(S) >= 3:\n",
    "                S.pop()\n",
    "            elif len(S) == 2:\n",
    "                S.pop()\n",
    "                S.append(A[0])\n",
    "                A.remove(A[0])\n",
    "                \n",
    "    #шаг 5: вернуть назад начало координат\n",
    "    \n",
    "    S = [(S[i][0] + p[0], S[i][1] + p[1]) for i in range(len(S))]\n",
    "    \n",
    "    time_rqs = time.time() - start_rqs\n",
    "    \n",
    "    return S, time_rqs"
   ]
  },
  {
   "cell_type": "code",
   "execution_count": 41,
   "metadata": {},
   "outputs": [],
   "source": [
    "S1, t1 = Graham_Algorithm_with_Randomized_Quick_Sort(A)"
   ]
  },
  {
   "cell_type": "markdown",
   "metadata": {},
   "source": [
    "### Реализация 3-кучи"
   ]
  },
  {
   "cell_type": "code",
   "execution_count": 17,
   "metadata": {},
   "outputs": [],
   "source": [
    "#поиск родителя\n",
    "def p(i):\n",
    "    if i != 0:\n",
    "        return (i-1) // 3\n",
    "    else:\n",
    "        return -1"
   ]
  },
  {
   "cell_type": "code",
   "execution_count": 18,
   "metadata": {},
   "outputs": [],
   "source": [
    "def emersion(i, A):\n",
    "    j1 = i\n",
    "    j2 = p(i)\n",
    "    if (j2 != -1) and (is_smaller(A[j1], A[j2])):\n",
    "        A[j1], A[j2] = A[j2], A[j1]\n",
    "        emersion(j2, A)"
   ]
  },
  {
   "cell_type": "code",
   "execution_count": 19,
   "metadata": {},
   "outputs": [],
   "source": [
    "def make_3_heap(A):\n",
    "    for i in range(len(A)):\n",
    "        emersion(i, A)"
   ]
  },
  {
   "cell_type": "code",
   "execution_count": 20,
   "metadata": {},
   "outputs": [],
   "source": [
    "def delete_min(A):\n",
    "    A[0], A[-1] = A[-1], A[0]\n",
    "    A.pop()\n",
    "    for i in range(len(A)):\n",
    "        emersion(i, A)"
   ]
  },
  {
   "cell_type": "markdown",
   "metadata": {},
   "source": [
    "### Реализация Алгоритма Грэма на основе 3-кучи"
   ]
  },
  {
   "cell_type": "code",
   "execution_count": 21,
   "metadata": {},
   "outputs": [],
   "source": [
    "def Graham_Algorithm_with_3_heap(A):\n",
    "    start_3h = time.time()\n",
    "    #шаг 1: найти новое начало координат (точку с минимальной абсциссой и ординатой)\n",
    "    n = len(A) #число точек\n",
    "    min_x = []\n",
    "    p = min(A, key=lambda x: x[0])\n",
    "    \n",
    "    for i in range(n):\n",
    "        if A[i][0] == p[0]:\n",
    "            min_x.append(A[i])\n",
    "            \n",
    "    for x in min_x:\n",
    "        if x[1] < p[1]:\n",
    "            p = x\n",
    "            \n",
    "    #шаг 2: перенести начало координат\n",
    "            \n",
    "    A = [(A[i][0] - p[0], A[i][1] - p[1]) for i in range(n)]\n",
    "    \n",
    "    #шаг 3: упорядочить точки по увеличению угла точек в полярных координатах\n",
    "    \n",
    "    make_3_heap(A)\n",
    "    \n",
    "    #шаг 4: создать стек, положить 2 минимальные точки\n",
    "    \n",
    "    S = []\n",
    "    \n",
    "    S.append(A[0])\n",
    "    \n",
    "    delete_min(A)\n",
    "    \n",
    "    S.append(A[0])\n",
    "    \n",
    "    delete_min(A)\n",
    "    \n",
    "    while A:\n",
    "        if isLeft(S[-2], S[-1], A[0]):\n",
    "            S.append(A[0])\n",
    "            delete_min(A)\n",
    "        else:\n",
    "            if len(S) >= 3:\n",
    "                S.pop()\n",
    "            elif len(S) == 2:\n",
    "                S.pop()\n",
    "                S.append(A[0])\n",
    "                delete_min(A)\n",
    "                \n",
    "    #шаг 5: вернуть назад начало координат\n",
    "    \n",
    "    S = [(S[i][0] + p[0], S[i][1] + p[1]) for i in range(len(S))]\n",
    "    \n",
    "    time_3h = time.time() - start_3h\n",
    "    \n",
    "    return S, time_3h"
   ]
  },
  {
   "cell_type": "code",
   "execution_count": 42,
   "metadata": {},
   "outputs": [],
   "source": [
    "S2, t2 = Graham_Algorithm_with_3_heap(A)"
   ]
  },
  {
   "cell_type": "code",
   "execution_count": 43,
   "metadata": {},
   "outputs": [
    {
     "name": "stdout",
     "output_type": "stream",
     "text": [
      "[(0.0, 0.0), (2.0, 0.0), (2.0, 2.0), (0.0, 2.0)]\n"
     ]
    }
   ],
   "source": [
    "print(S1)"
   ]
  },
  {
   "cell_type": "code",
   "execution_count": 44,
   "metadata": {},
   "outputs": [
    {
     "name": "stdout",
     "output_type": "stream",
     "text": [
      "4\n"
     ]
    }
   ],
   "source": [
    "print(len(S1))"
   ]
  },
  {
   "cell_type": "code",
   "execution_count": 45,
   "metadata": {},
   "outputs": [
    {
     "name": "stdout",
     "output_type": "stream",
     "text": [
      "[(0.0, 0.0), (2.0, 0.0), (2.0, 2.0), (0.0, 2.0)]\n"
     ]
    }
   ],
   "source": [
    "print(S2)"
   ]
  },
  {
   "cell_type": "code",
   "execution_count": 46,
   "metadata": {},
   "outputs": [
    {
     "name": "stdout",
     "output_type": "stream",
     "text": [
      "4\n"
     ]
    }
   ],
   "source": [
    "print(len(S2))"
   ]
  },
  {
   "cell_type": "code",
   "execution_count": 27,
   "metadata": {},
   "outputs": [
    {
     "data": {
      "text/plain": [
       "True"
      ]
     },
     "execution_count": 27,
     "metadata": {},
     "output_type": "execute_result"
    }
   ],
   "source": [
    "S1 == S2"
   ]
  },
  {
   "cell_type": "markdown",
   "metadata": {},
   "source": [
    "## Визуализация"
   ]
  },
  {
   "cell_type": "code",
   "execution_count": 28,
   "metadata": {},
   "outputs": [],
   "source": [
    "import matplotlib.pyplot as plt"
   ]
  },
  {
   "cell_type": "code",
   "execution_count": 29,
   "metadata": {},
   "outputs": [],
   "source": [
    "def ploting_results(S, P, title):\n",
    "    x_all = []\n",
    "    y_all = []\n",
    "    for point in P:\n",
    "        x_all.append(point[0])\n",
    "        y_all.append(point[1])\n",
    "    \n",
    "    x_res = []\n",
    "    y_res = []\n",
    "    for point in S:\n",
    "        x_res.append(point[0])\n",
    "        y_res.append(point[1])\n",
    "        \n",
    "    x_res.append(S[0][0])\n",
    "    y_res.append(S[0][1])\n",
    "        \n",
    "    plt.figure(figsize=(12, 7))\n",
    "    plt.grid()\n",
    "    plt.ylabel('Y')\n",
    "    plt.xlabel('X')\n",
    "    plt.title(title)\n",
    "        \n",
    "    plt.scatter(x_all, y_all, color=\"blue\")\n",
    "    \n",
    "    plt.plot(x_res, y_res, color=\"red\")\n",
    "        \n",
    "    plt.show()"
   ]
  },
  {
   "cell_type": "code",
   "execution_count": 30,
   "metadata": {},
   "outputs": [],
   "source": [
    "def timer():\n",
    "    time_rqs = []\n",
    "    time_3h = []\n",
    "    size = []\n",
    "        \n",
    "    for i in range(10, 155, 5):\n",
    "        create(i)\n",
    "        A = reader(\"data_points.txt\")\n",
    "        size.append(len(A))\n",
    "        S1, t1 = Graham_Algorithm_with_Randomized_Quick_Sort(A)\n",
    "        time_rqs.append(t1)\n",
    "        S2, t2 = Graham_Algorithm_with_3_heap(A)\n",
    "        time_3h.append(t2)\n",
    "        \n",
    "    return time_rqs, time_3h, size"
   ]
  },
  {
   "cell_type": "code",
   "execution_count": 31,
   "metadata": {},
   "outputs": [],
   "source": [
    "def ploting_timer(time_rqs, time_3h, size):\n",
    "    plt.figure(figsize=(12, 7))\n",
    "    plt.grid()\n",
    "    plt.ylabel('Time, sec')\n",
    "    plt.xlabel('Size')\n",
    "    \n",
    "    line1, = plt.plot(size, time_rqs, color='blue')\n",
    "    line2, = plt.plot(size, time_3h, color='red')\n",
    "    \n",
    "    plt.legend([line1, line2], ['Время с быстрой сортировкой', \"Время с 3-кучей\"])\n",
    "    \n",
    "    plt.show()"
   ]
  },
  {
   "cell_type": "code",
   "execution_count": 47,
   "metadata": {},
   "outputs": [
    {
     "data": {
      "image/png": "[encoded data removed]",
      "text/plain": [
       "<Figure size 864x504 with 1 Axes>"
      ]
     },
     "metadata": {
      "needs_background": "light"
     },
     "output_type": "display_data"
    }
   ],
   "source": [
    "ploting_results(S1, P, \"Результат с быстрой сортировкой\")"
   ]
  },
  {
   "cell_type": "code",
   "execution_count": 48,
   "metadata": {},
   "outputs": [
    {
     "data": {
      "image/png": "[encoded data removed]",
      "text/plain": [
       "<Figure size 864x504 with 1 Axes>"
      ]
     },
     "metadata": {
      "needs_background": "light"
     },
     "output_type": "display_data"
    }
   ],
   "source": [
    "ploting_results(S2, P, \"Результат с 3-кучей\")"
   ]
  },
  {
   "cell_type": "code",
   "execution_count": 34,
   "metadata": {},
   "outputs": [],
   "source": [
    "time_rqs, time_3h, size = timer()"
   ]
  },
  {
   "cell_type": "code",
   "execution_count": 35,
   "metadata": {},
   "outputs": [
    {
     "data": {
      "image/png": "[encoded data removed]",
      "text/plain": [
       "<Figure size 864x504 with 1 Axes>"
      ]
     },
     "metadata": {
      "needs_background": "light"
     },
     "output_type": "display_data"
    }
   ],
   "source": [
    "ploting_timer(time_rqs, time_3h, size)"
   ]
  },
  {
   "cell_type": "markdown",
   "metadata": {},
   "source": [
    "### Запись времени в файл"
   ]
  },
  {
   "cell_type": "code",
   "execution_count": 36,
   "metadata": {},
   "outputs": [],
   "source": [
    "with open(\"Graham_time.txt\", 'w') as file:\n",
    "    file.write('Size ' + 'Time Quick Sort ' + 'Time 3-heap' + '\\n')\n",
    "    \n",
    "    for i in range(len(time_rqs)):\n",
    "        file.write(str(size[i]) + ' ' + str(time_rqs[i]) + ' ' + str(time_3h[i]) + '\\n')"
   ]
  }
 ],
 "metadata": {
  "kernelspec": {
   "display_name": "Python 3",
   "language": "python",
   "name": "python3"
  },
  "language_info": {
   "codemirror_mode": {
    "name": "ipython",
    "version": 3
   },
   "file_extension": ".py",
   "mimetype": "text/x-python",
   "name": "python",
   "nbconvert_exporter": "python",
   "pygments_lexer": "ipython3",
   "version": "3.7.4"
  }
 },
 "nbformat": 4,
 "nbformat_minor": 4
}
